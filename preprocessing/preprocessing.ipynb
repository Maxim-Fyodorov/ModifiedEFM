{
 "cells": [
  {
   "cell_type": "code",
   "execution_count": 1,
   "id": "850116d6",
   "metadata": {},
   "outputs": [],
   "source": [
    "from pathlib import Path\n",
    "import pandas as pd\n",
    "from sklearn.preprocessing import LabelEncoder\n",
    "import numpy as np\n",
    "from chrono_split import chrono_split"
   ]
  },
  {
   "cell_type": "code",
   "execution_count": 2,
   "id": "291a0abd",
   "metadata": {},
   "outputs": [],
   "source": [
    "RATINGS_PATH = Path(\"../data/goodreads_fantasy/goodreads_reviews_fantasy_paranormal.csv\")\n",
    "FEATURES_PATH=Path(\"../data/goodreads/goodreads_book_genres_initial.csv\")\n",
    "DATA_LABEL=\"goodreads\""
   ]
  },
  {
   "cell_type": "code",
   "execution_count": 3,
   "id": "b2dc0d4f",
   "metadata": {
    "scrolled": true
   },
   "outputs": [],
   "source": [
    "if DATA_LABEL==\"goodreads\":\n",
    "    sep=\",\"\n",
    "    usecols_ratings=[\"book_id\", \"date_updated\", \"rating\", \"user_id\"]\n",
    "    usecols_features=None\n",
    "elif DATA_LABEL==\"kinopoisk\":\n",
    "    sep=\"|\"\n",
    "    usecols_ratings=None\n",
    "    usecols_features=[\"id\", \"genre\"]"
   ]
  },
  {
   "cell_type": "code",
   "execution_count": 4,
   "id": "c85b19a2",
   "metadata": {},
   "outputs": [],
   "source": [
    "ratings=pd.read_csv(\n",
    "    filepath_or_buffer=RATINGS_PATH,\n",
    "    sep=sep,\n",
    "    usecols=usecols_ratings\n",
    ")\n",
    "features=pd.read_csv(\n",
    "    filepath_or_buffer=FEATURES_PATH,\n",
    "    sep=sep,\n",
    "    usecols=usecols_features\n",
    ")"
   ]
  },
  {
   "cell_type": "code",
   "execution_count": 5,
   "id": "3c1571dc",
   "metadata": {},
   "outputs": [
    {
     "data": {
      "text/html": [
       "<div>\n",
       "<style scoped>\n",
       "    .dataframe tbody tr th:only-of-type {\n",
       "        vertical-align: middle;\n",
       "    }\n",
       "\n",
       "    .dataframe tbody tr th {\n",
       "        vertical-align: top;\n",
       "    }\n",
       "\n",
       "    .dataframe thead th {\n",
       "        text-align: right;\n",
       "    }\n",
       "</style>\n",
       "<table border=\"1\" class=\"dataframe\">\n",
       "  <thead>\n",
       "    <tr style=\"text-align: right;\">\n",
       "      <th></th>\n",
       "      <th>book_id</th>\n",
       "      <th>date_updated</th>\n",
       "      <th>rating</th>\n",
       "      <th>user_id</th>\n",
       "    </tr>\n",
       "  </thead>\n",
       "  <tbody>\n",
       "    <tr>\n",
       "      <th>0</th>\n",
       "      <td>18245960</td>\n",
       "      <td>Wed Aug 30 00:00:26 -0700 2017</td>\n",
       "      <td>5</td>\n",
       "      <td>8842281e1d1347389f2ab93d60773d4d</td>\n",
       "    </tr>\n",
       "    <tr>\n",
       "      <th>1</th>\n",
       "      <td>5577844</td>\n",
       "      <td>Wed Oct 01 00:31:56 -0700 2014</td>\n",
       "      <td>5</td>\n",
       "      <td>8842281e1d1347389f2ab93d60773d4d</td>\n",
       "    </tr>\n",
       "    <tr>\n",
       "      <th>2</th>\n",
       "      <td>17315048</td>\n",
       "      <td>Wed Mar 22 11:33:10 -0700 2017</td>\n",
       "      <td>5</td>\n",
       "      <td>8842281e1d1347389f2ab93d60773d4d</td>\n",
       "    </tr>\n",
       "    <tr>\n",
       "      <th>3</th>\n",
       "      <td>13453029</td>\n",
       "      <td>Sat Jul 26 11:43:28 -0700 2014</td>\n",
       "      <td>4</td>\n",
       "      <td>8842281e1d1347389f2ab93d60773d4d</td>\n",
       "    </tr>\n",
       "    <tr>\n",
       "      <th>4</th>\n",
       "      <td>13239822</td>\n",
       "      <td>Wed Mar 22 11:32:20 -0700 2017</td>\n",
       "      <td>3</td>\n",
       "      <td>8842281e1d1347389f2ab93d60773d4d</td>\n",
       "    </tr>\n",
       "  </tbody>\n",
       "</table>\n",
       "</div>"
      ],
      "text/plain": [
       "    book_id                    date_updated  rating  \\\n",
       "0  18245960  Wed Aug 30 00:00:26 -0700 2017       5   \n",
       "1   5577844  Wed Oct 01 00:31:56 -0700 2014       5   \n",
       "2  17315048  Wed Mar 22 11:33:10 -0700 2017       5   \n",
       "3  13453029  Sat Jul 26 11:43:28 -0700 2014       4   \n",
       "4  13239822  Wed Mar 22 11:32:20 -0700 2017       3   \n",
       "\n",
       "                            user_id  \n",
       "0  8842281e1d1347389f2ab93d60773d4d  \n",
       "1  8842281e1d1347389f2ab93d60773d4d  \n",
       "2  8842281e1d1347389f2ab93d60773d4d  \n",
       "3  8842281e1d1347389f2ab93d60773d4d  \n",
       "4  8842281e1d1347389f2ab93d60773d4d  "
      ]
     },
     "execution_count": 5,
     "metadata": {},
     "output_type": "execute_result"
    }
   ],
   "source": [
    "ratings.head()"
   ]
  },
  {
   "cell_type": "code",
   "execution_count": 6,
   "id": "656b1488",
   "metadata": {},
   "outputs": [
    {
     "data": {
      "text/html": [
       "<div>\n",
       "<style scoped>\n",
       "    .dataframe tbody tr th:only-of-type {\n",
       "        vertical-align: middle;\n",
       "    }\n",
       "\n",
       "    .dataframe tbody tr th {\n",
       "        vertical-align: top;\n",
       "    }\n",
       "\n",
       "    .dataframe thead th {\n",
       "        text-align: right;\n",
       "    }\n",
       "</style>\n",
       "<table border=\"1\" class=\"dataframe\">\n",
       "  <thead>\n",
       "    <tr style=\"text-align: right;\">\n",
       "      <th></th>\n",
       "      <th>item_id</th>\n",
       "      <th>genres</th>\n",
       "    </tr>\n",
       "  </thead>\n",
       "  <tbody>\n",
       "    <tr>\n",
       "      <th>0</th>\n",
       "      <td>5333265</td>\n",
       "      <td>history, historical fiction, biography</td>\n",
       "    </tr>\n",
       "    <tr>\n",
       "      <th>1</th>\n",
       "      <td>1333909</td>\n",
       "      <td>fiction, history, historical fiction, biography</td>\n",
       "    </tr>\n",
       "    <tr>\n",
       "      <th>2</th>\n",
       "      <td>7327624</td>\n",
       "      <td>fantasy, paranormal, fiction, mystery, thrille...</td>\n",
       "    </tr>\n",
       "    <tr>\n",
       "      <th>3</th>\n",
       "      <td>6066819</td>\n",
       "      <td>fiction, romance, mystery, thriller, crime</td>\n",
       "    </tr>\n",
       "    <tr>\n",
       "      <th>4</th>\n",
       "      <td>287140</td>\n",
       "      <td>non-fiction</td>\n",
       "    </tr>\n",
       "  </tbody>\n",
       "</table>\n",
       "</div>"
      ],
      "text/plain": [
       "   item_id                                             genres\n",
       "0  5333265             history, historical fiction, biography\n",
       "1  1333909    fiction, history, historical fiction, biography\n",
       "2  7327624  fantasy, paranormal, fiction, mystery, thrille...\n",
       "3  6066819         fiction, romance, mystery, thriller, crime\n",
       "4   287140                                        non-fiction"
      ]
     },
     "execution_count": 6,
     "metadata": {},
     "output_type": "execute_result"
    }
   ],
   "source": [
    "features.head()"
   ]
  },
  {
   "cell_type": "markdown",
   "id": "7d009aaf",
   "metadata": {},
   "source": [
    "Для обучения рекомендательных алгоритмов нужны только айдишники пользователя и товара, оценка и дата. Приведу их названия к унифицированному виду для дальнейшего удобства."
   ]
  },
  {
   "cell_type": "code",
   "execution_count": 9,
   "id": "ded2fcb1",
   "metadata": {},
   "outputs": [],
   "source": [
    "if DATA_LABEL==\"goodreads\":\n",
    "    colnames_ratings_map={\"book_id\": \"item_id\", \"date_updated\": \"timestamp\"}\n",
    "    colnames_features_map={\"genres\": \"features\"}\n",
    "elif DATA_LABEL==\"kinopoisk\":\n",
    "    colnames_ratings_map={\"movie_id\": \"item_id\", \"time\": \"timestamp\", \"score\": \"rating\"}\n",
    "    colnames_features_map={\"id\": \"item_id\", \"genre\": \"features\"}"
   ]
  },
  {
   "cell_type": "code",
   "execution_count": 10,
   "id": "dceda79c",
   "metadata": {},
   "outputs": [],
   "source": [
    "ratings.rename(columns=colnames_ratings_map, inplace=True)\n",
    "features.rename(columns=colnames_features_map, inplace=True)"
   ]
  },
  {
   "cell_type": "markdown",
   "id": "d836fbee",
   "metadata": {},
   "source": [
    "Удостоверюсь, что в данных будут только айтемы с признаками. Уберу из датасета с признаками айтемы без признаков."
   ]
  },
  {
   "cell_type": "code",
   "execution_count": 11,
   "id": "de41657c",
   "metadata": {},
   "outputs": [],
   "source": [
    "features=features[~features.features.isna()]"
   ]
  },
  {
   "cell_type": "code",
   "execution_count": 12,
   "id": "76eaf960",
   "metadata": {},
   "outputs": [],
   "source": [
    "if DATA_LABEL==\"kinopoisk\":\n",
    "    features.loc[:, \"features\"]=features.features.apply(lambda x: \"|\".join(eval(x)))\n",
    "else:\n",
    "    features.loc[:, \"features\"]=features.features.apply(lambda x: \"|\".join(x.split(\", \")))"
   ]
  },
  {
   "cell_type": "code",
   "execution_count": 13,
   "id": "13f0ac26",
   "metadata": {},
   "outputs": [
    {
     "data": {
      "text/html": [
       "<div>\n",
       "<style scoped>\n",
       "    .dataframe tbody tr th:only-of-type {\n",
       "        vertical-align: middle;\n",
       "    }\n",
       "\n",
       "    .dataframe tbody tr th {\n",
       "        vertical-align: top;\n",
       "    }\n",
       "\n",
       "    .dataframe thead th {\n",
       "        text-align: right;\n",
       "    }\n",
       "</style>\n",
       "<table border=\"1\" class=\"dataframe\">\n",
       "  <thead>\n",
       "    <tr style=\"text-align: right;\">\n",
       "      <th></th>\n",
       "      <th>item_id</th>\n",
       "      <th>features</th>\n",
       "    </tr>\n",
       "  </thead>\n",
       "  <tbody>\n",
       "    <tr>\n",
       "      <th>0</th>\n",
       "      <td>5333265</td>\n",
       "      <td>history|historical fiction|biography</td>\n",
       "    </tr>\n",
       "    <tr>\n",
       "      <th>1</th>\n",
       "      <td>1333909</td>\n",
       "      <td>fiction|history|historical fiction|biography</td>\n",
       "    </tr>\n",
       "    <tr>\n",
       "      <th>2</th>\n",
       "      <td>7327624</td>\n",
       "      <td>fantasy|paranormal|fiction|mystery|thriller|cr...</td>\n",
       "    </tr>\n",
       "    <tr>\n",
       "      <th>3</th>\n",
       "      <td>6066819</td>\n",
       "      <td>fiction|romance|mystery|thriller|crime</td>\n",
       "    </tr>\n",
       "    <tr>\n",
       "      <th>4</th>\n",
       "      <td>287140</td>\n",
       "      <td>non-fiction</td>\n",
       "    </tr>\n",
       "  </tbody>\n",
       "</table>\n",
       "</div>"
      ],
      "text/plain": [
       "   item_id                                           features\n",
       "0  5333265               history|historical fiction|biography\n",
       "1  1333909       fiction|history|historical fiction|biography\n",
       "2  7327624  fantasy|paranormal|fiction|mystery|thriller|cr...\n",
       "3  6066819             fiction|romance|mystery|thriller|crime\n",
       "4   287140                                        non-fiction"
      ]
     },
     "execution_count": 13,
     "metadata": {},
     "output_type": "execute_result"
    }
   ],
   "source": [
    "features.head()"
   ]
  },
  {
   "cell_type": "code",
   "execution_count": 14,
   "id": "4e0c783e",
   "metadata": {},
   "outputs": [],
   "source": [
    "features=features[features.features!=\"\"]"
   ]
  },
  {
   "cell_type": "markdown",
   "id": "5222fdde",
   "metadata": {},
   "source": [
    "Уберу интеракции, где признаков нет."
   ]
  },
  {
   "cell_type": "code",
   "execution_count": 15,
   "id": "beb135e6",
   "metadata": {},
   "outputs": [],
   "source": [
    "ratings=ratings[ratings.item_id.isin(features.item_id)&ratings.rating!=0]"
   ]
  },
  {
   "cell_type": "markdown",
   "id": "0123ebf5",
   "metadata": {},
   "source": [
    "Трансформирую дату к корректному виду."
   ]
  },
  {
   "cell_type": "code",
   "execution_count": 19,
   "id": "20751ae6",
   "metadata": {},
   "outputs": [],
   "source": [
    "if DATA_LABEL==\"goodreads\":\n",
    "    utc=True\n",
    "    unit=None\n",
    "elif DATA_LABEL==\"kinopoisk\":\n",
    "    utc=None\n",
    "    unit=\"s\""
   ]
  },
  {
   "cell_type": "code",
   "execution_count": 20,
   "id": "fba5941a",
   "metadata": {},
   "outputs": [],
   "source": [
    "ratings.loc[:, \"timestamp\"]=pd.to_datetime(ratings.loc[:, \"timestamp\"], unit=unit, utc=utc)"
   ]
  },
  {
   "cell_type": "code",
   "execution_count": 21,
   "id": "48d3a4aa",
   "metadata": {},
   "outputs": [
    {
     "data": {
      "text/html": [
       "<div>\n",
       "<style scoped>\n",
       "    .dataframe tbody tr th:only-of-type {\n",
       "        vertical-align: middle;\n",
       "    }\n",
       "\n",
       "    .dataframe tbody tr th {\n",
       "        vertical-align: top;\n",
       "    }\n",
       "\n",
       "    .dataframe thead th {\n",
       "        text-align: right;\n",
       "    }\n",
       "</style>\n",
       "<table border=\"1\" class=\"dataframe\">\n",
       "  <thead>\n",
       "    <tr style=\"text-align: right;\">\n",
       "      <th></th>\n",
       "      <th>item_id</th>\n",
       "      <th>timestamp</th>\n",
       "      <th>rating</th>\n",
       "      <th>user_id</th>\n",
       "    </tr>\n",
       "  </thead>\n",
       "  <tbody>\n",
       "    <tr>\n",
       "      <th>0</th>\n",
       "      <td>18245960</td>\n",
       "      <td>2017-08-30 07:00:26+00:00</td>\n",
       "      <td>5</td>\n",
       "      <td>8842281e1d1347389f2ab93d60773d4d</td>\n",
       "    </tr>\n",
       "    <tr>\n",
       "      <th>1</th>\n",
       "      <td>5577844</td>\n",
       "      <td>2014-10-01 07:31:56+00:00</td>\n",
       "      <td>5</td>\n",
       "      <td>8842281e1d1347389f2ab93d60773d4d</td>\n",
       "    </tr>\n",
       "    <tr>\n",
       "      <th>2</th>\n",
       "      <td>17315048</td>\n",
       "      <td>2017-03-22 18:33:10+00:00</td>\n",
       "      <td>5</td>\n",
       "      <td>8842281e1d1347389f2ab93d60773d4d</td>\n",
       "    </tr>\n",
       "    <tr>\n",
       "      <th>4</th>\n",
       "      <td>13239822</td>\n",
       "      <td>2017-03-22 18:32:20+00:00</td>\n",
       "      <td>3</td>\n",
       "      <td>8842281e1d1347389f2ab93d60773d4d</td>\n",
       "    </tr>\n",
       "    <tr>\n",
       "      <th>5</th>\n",
       "      <td>62291</td>\n",
       "      <td>2017-03-22 18:47:02+00:00</td>\n",
       "      <td>5</td>\n",
       "      <td>8842281e1d1347389f2ab93d60773d4d</td>\n",
       "    </tr>\n",
       "  </tbody>\n",
       "</table>\n",
       "</div>"
      ],
      "text/plain": [
       "    item_id                 timestamp  rating  \\\n",
       "0  18245960 2017-08-30 07:00:26+00:00       5   \n",
       "1   5577844 2014-10-01 07:31:56+00:00       5   \n",
       "2  17315048 2017-03-22 18:33:10+00:00       5   \n",
       "4  13239822 2017-03-22 18:32:20+00:00       3   \n",
       "5     62291 2017-03-22 18:47:02+00:00       5   \n",
       "\n",
       "                            user_id  \n",
       "0  8842281e1d1347389f2ab93d60773d4d  \n",
       "1  8842281e1d1347389f2ab93d60773d4d  \n",
       "2  8842281e1d1347389f2ab93d60773d4d  \n",
       "4  8842281e1d1347389f2ab93d60773d4d  \n",
       "5  8842281e1d1347389f2ab93d60773d4d  "
      ]
     },
     "execution_count": 21,
     "metadata": {},
     "output_type": "execute_result"
    }
   ],
   "source": [
    "ratings.head()"
   ]
  },
  {
   "cell_type": "code",
   "execution_count": 22,
   "id": "bc2c297f",
   "metadata": {},
   "outputs": [],
   "source": [
    "if DATA_LABEL==\"kinopoisk\":\n",
    "    ratings=ratings[ratings.timestamp.dt.year >= 2020]"
   ]
  },
  {
   "cell_type": "markdown",
   "id": "a8761faa",
   "metadata": {},
   "source": [
    "Проверю на наличие дубликатов отзывов."
   ]
  },
  {
   "cell_type": "code",
   "execution_count": 23,
   "id": "f224a02a",
   "metadata": {},
   "outputs": [
    {
     "data": {
      "text/html": [
       "<div>\n",
       "<style scoped>\n",
       "    .dataframe tbody tr th:only-of-type {\n",
       "        vertical-align: middle;\n",
       "    }\n",
       "\n",
       "    .dataframe tbody tr th {\n",
       "        vertical-align: top;\n",
       "    }\n",
       "\n",
       "    .dataframe thead th {\n",
       "        text-align: right;\n",
       "    }\n",
       "</style>\n",
       "<table border=\"1\" class=\"dataframe\">\n",
       "  <thead>\n",
       "    <tr style=\"text-align: right;\">\n",
       "      <th></th>\n",
       "      <th>item_id</th>\n",
       "      <th>timestamp</th>\n",
       "      <th>rating</th>\n",
       "      <th>user_id</th>\n",
       "    </tr>\n",
       "  </thead>\n",
       "  <tbody>\n",
       "  </tbody>\n",
       "</table>\n",
       "</div>"
      ],
      "text/plain": [
       "Empty DataFrame\n",
       "Columns: [item_id, timestamp, rating, user_id]\n",
       "Index: []"
      ]
     },
     "execution_count": 23,
     "metadata": {},
     "output_type": "execute_result"
    }
   ],
   "source": [
    "ratings[ratings.duplicated([\"user_id\", \"item_id\"], keep = False)]"
   ]
  },
  {
   "cell_type": "markdown",
   "id": "1fc01496",
   "metadata": {},
   "source": [
    "Удалю дубликаты, оставив самую актуальную оценку."
   ]
  },
  {
   "cell_type": "code",
   "execution_count": 24,
   "id": "dd40f746",
   "metadata": {},
   "outputs": [],
   "source": [
    "ratings.sort_values(\"timestamp\", inplace = True)\n",
    "ratings = ratings[~ratings.duplicated([\"user_id\", \"item_id\"], keep = \"last\")]\n",
    "ratings.reset_index(drop = True, inplace = True)"
   ]
  },
  {
   "cell_type": "code",
   "execution_count": 25,
   "id": "ebd76465",
   "metadata": {},
   "outputs": [
    {
     "data": {
      "text/html": [
       "<div>\n",
       "<style scoped>\n",
       "    .dataframe tbody tr th:only-of-type {\n",
       "        vertical-align: middle;\n",
       "    }\n",
       "\n",
       "    .dataframe tbody tr th {\n",
       "        vertical-align: top;\n",
       "    }\n",
       "\n",
       "    .dataframe thead th {\n",
       "        text-align: right;\n",
       "    }\n",
       "</style>\n",
       "<table border=\"1\" class=\"dataframe\">\n",
       "  <thead>\n",
       "    <tr style=\"text-align: right;\">\n",
       "      <th></th>\n",
       "      <th>item_id</th>\n",
       "      <th>timestamp</th>\n",
       "      <th>rating</th>\n",
       "      <th>user_id</th>\n",
       "    </tr>\n",
       "  </thead>\n",
       "  <tbody>\n",
       "    <tr>\n",
       "      <th>0</th>\n",
       "      <td>2</td>\n",
       "      <td>2006-12-06 11:12:49+00:00</td>\n",
       "      <td>5</td>\n",
       "      <td>7b00e728d1ce3c95a16b90e389dfbb90</td>\n",
       "    </tr>\n",
       "    <tr>\n",
       "      <th>1</th>\n",
       "      <td>5907</td>\n",
       "      <td>2007-02-06 18:05:31+00:00</td>\n",
       "      <td>5</td>\n",
       "      <td>6a22bb07026c9bb6f17922d2d61116ae</td>\n",
       "    </tr>\n",
       "    <tr>\n",
       "      <th>2</th>\n",
       "      <td>34493</td>\n",
       "      <td>2007-02-15 03:26:51+00:00</td>\n",
       "      <td>3</td>\n",
       "      <td>39fbda7c84be941c0b616df0413be729</td>\n",
       "    </tr>\n",
       "    <tr>\n",
       "      <th>3</th>\n",
       "      <td>104359</td>\n",
       "      <td>2007-02-20 06:05:09+00:00</td>\n",
       "      <td>5</td>\n",
       "      <td>39fbda7c84be941c0b616df0413be729</td>\n",
       "    </tr>\n",
       "    <tr>\n",
       "      <th>4</th>\n",
       "      <td>49627</td>\n",
       "      <td>2007-02-23 01:45:53+00:00</td>\n",
       "      <td>5</td>\n",
       "      <td>416ca9250de82ccdba40d355a369c8b4</td>\n",
       "    </tr>\n",
       "  </tbody>\n",
       "</table>\n",
       "</div>"
      ],
      "text/plain": [
       "   item_id                 timestamp  rating                           user_id\n",
       "0        2 2006-12-06 11:12:49+00:00       5  7b00e728d1ce3c95a16b90e389dfbb90\n",
       "1     5907 2007-02-06 18:05:31+00:00       5  6a22bb07026c9bb6f17922d2d61116ae\n",
       "2    34493 2007-02-15 03:26:51+00:00       3  39fbda7c84be941c0b616df0413be729\n",
       "3   104359 2007-02-20 06:05:09+00:00       5  39fbda7c84be941c0b616df0413be729\n",
       "4    49627 2007-02-23 01:45:53+00:00       5  416ca9250de82ccdba40d355a369c8b4"
      ]
     },
     "execution_count": 25,
     "metadata": {},
     "output_type": "execute_result"
    }
   ],
   "source": [
    "ratings.head()"
   ]
  },
  {
   "cell_type": "markdown",
   "id": "05e63fcc",
   "metadata": {},
   "source": [
    "Статистика по датасету:"
   ]
  },
  {
   "cell_type": "code",
   "execution_count": 26,
   "id": "78985bb6",
   "metadata": {},
   "outputs": [
    {
     "name": "stdout",
     "output_type": "stream",
     "text": [
      "Users: 217937\n",
      "Items: 203227\n",
      "Reviews: 1948378\n",
      "Reviews/Users: 8.94\n",
      "Density: 0.004%\n"
     ]
    }
   ],
   "source": [
    "# Goodreads Fantasy\n",
    "n_users = len(ratings[\"user_id\"].unique())\n",
    "n_items = len(ratings[\"item_id\"].unique())\n",
    "n_reviews = len(ratings)\n",
    "\n",
    "print(f\"Users: {n_users}\")\n",
    "print(f\"Items: {n_items}\")\n",
    "print(f\"Reviews: {n_reviews}\")\n",
    "print(f\"Reviews/Users: {round(n_reviews/n_users, 2)}\")\n",
    "print(f\"Density: {round(n_reviews/(n_users * n_items) * 100, 3)}%\")"
   ]
  },
  {
   "cell_type": "code",
   "execution_count": 36,
   "id": "bf78061e",
   "metadata": {},
   "outputs": [
    {
     "name": "stdout",
     "output_type": "stream",
     "text": [
      "Users: 34860\n",
      "Items: 57838\n",
      "Reviews: 3079710\n",
      "Reviews/Users: 88.35\n",
      "Density: 0.153%\n"
     ]
    }
   ],
   "source": [
    "# Kinopoisk\n",
    "n_users = len(ratings[\"user_id\"].unique())\n",
    "n_items = len(ratings[\"item_id\"].unique())\n",
    "n_reviews = len(ratings)\n",
    "\n",
    "print(f\"Users: {n_users}\")\n",
    "print(f\"Items: {n_items}\")\n",
    "print(f\"Reviews: {n_reviews}\")\n",
    "print(f\"Reviews/Users: {round(n_reviews/n_users, 2)}\")\n",
    "print(f\"Density: {round(n_reviews/(n_users * n_items) * 100, 3)}%\")"
   ]
  },
  {
   "cell_type": "markdown",
   "id": "5021c669",
   "metadata": {},
   "source": [
    "Разделю данные на тренировочную и тестовую выборки по хронологическому принципу. Для этого для начала посмотрю на распределение интеракций по годам."
   ]
  },
  {
   "cell_type": "code",
   "execution_count": 27,
   "id": "aaacab2a",
   "metadata": {},
   "outputs": [
    {
     "data": {
      "text/plain": [
       "2006         1\n",
       "2007      5156\n",
       "2008     24751\n",
       "2009     41267\n",
       "2010     68846\n",
       "2011    127374\n",
       "2012    192538\n",
       "2013    243305\n",
       "2014    257349\n",
       "2015    304819\n",
       "2016    360976\n",
       "2017    321996\n",
       "Name: timestamp, dtype: int64"
      ]
     },
     "execution_count": 27,
     "metadata": {},
     "output_type": "execute_result"
    }
   ],
   "source": [
    "ratings.timestamp.dt.year.value_counts().sort_index()"
   ]
  },
  {
   "cell_type": "code",
   "execution_count": 70,
   "id": "2250aa3a",
   "metadata": {},
   "outputs": [],
   "source": [
    "if DATA_LABEL==\"goodreads\":\n",
    "    val_threshold, test_threshold=\"01-01-2015\", \"01-01-2016\"\n",
    "elif DATA_LABEL==\"kinopoisk\":\n",
    "    val_threshold, test_threshold=\"01-01-2021\", \"02-01-2021\""
   ]
  },
  {
   "cell_type": "code",
   "execution_count": 71,
   "id": "7bda9b3b",
   "metadata": {},
   "outputs": [],
   "source": [
    "train, val, test = chrono_split(\n",
    "    data=ratings,\n",
    "    user_col=\"user_id\",\n",
    "    item_col=\"item_id\",\n",
    "    timestamp_col=\"timestamp\",\n",
    "    val_threshold=val_threshold,\n",
    "    test_threshold=test_threshold,\n",
    "    min_train_ratings=2,\n",
    "    min_test_ratings=10\n",
    ")"
   ]
  },
  {
   "cell_type": "code",
   "execution_count": 76,
   "id": "ad55eb27",
   "metadata": {},
   "outputs": [],
   "source": [
    "train.reset_index(drop=True, inplace=True)\n",
    "val.reset_index(drop=True, inplace=True)\n",
    "test.reset_index(drop=True, inplace=True)\n",
    "\n",
    "train.drop(columns=\"timestamp\", inplace=True)\n",
    "val.drop(columns=\"timestamp\", inplace=True)\n",
    "test.drop(columns=\"timestamp\", inplace=True)"
   ]
  },
  {
   "cell_type": "code",
   "execution_count": 77,
   "id": "55ef9238",
   "metadata": {},
   "outputs": [],
   "source": [
    "train=train.loc[:,[\"user_id\",\"item_id\",\"rating\"]]\n",
    "val=val.loc[:,[\"user_id\",\"item_id\",\"rating\"]]\n",
    "test=test.loc[:,[\"user_id\",\"item_id\",\"rating\"]]"
   ]
  },
  {
   "cell_type": "markdown",
   "id": "34940b95",
   "metadata": {},
   "source": [
    "Уберу из датасета с признаками айтемы, которых нет в трейне."
   ]
  },
  {
   "cell_type": "code",
   "execution_count": 78,
   "id": "e18e3d91",
   "metadata": {},
   "outputs": [],
   "source": [
    "features=features[features.item_id.isin(train.item_id)]"
   ]
  },
  {
   "cell_type": "code",
   "execution_count": 79,
   "id": "76a57ec1",
   "metadata": {},
   "outputs": [],
   "source": [
    "features.reset_index(drop=True, inplace=True)"
   ]
  },
  {
   "cell_type": "markdown",
   "id": "6b2e9aea",
   "metadata": {},
   "source": [
    "Трансформирую оригинальные айдишники пользователей и товаров в целые числа."
   ]
  },
  {
   "cell_type": "code",
   "execution_count": 80,
   "id": "f82b567d",
   "metadata": {},
   "outputs": [],
   "source": [
    "user_id_encoder, item_id_encoder=LabelEncoder(), LabelEncoder()"
   ]
  },
  {
   "cell_type": "code",
   "execution_count": 81,
   "id": "5242f4d8",
   "metadata": {},
   "outputs": [],
   "source": [
    "train.loc[:, \"user_id\"]=user_id_encoder.fit_transform(train.user_id)\n",
    "train.loc[:, \"item_id\"]=item_id_encoder.fit_transform(train.item_id)\n",
    "\n",
    "val.loc[:, \"user_id\"]=user_id_encoder.transform(val.user_id)\n",
    "val.loc[:, \"item_id\"]=item_id_encoder.transform(val.item_id)\n",
    "\n",
    "test.loc[:, \"user_id\"]=user_id_encoder.transform(test.user_id)\n",
    "test.loc[:, \"item_id\"]=item_id_encoder.transform(test.item_id)\n",
    "\n",
    "features.loc[:, \"item_id\"]=item_id_encoder.transform(features.item_id)"
   ]
  },
  {
   "cell_type": "code",
   "execution_count": 82,
   "id": "841698a8",
   "metadata": {},
   "outputs": [
    {
     "data": {
      "text/html": [
       "<div>\n",
       "<style scoped>\n",
       "    .dataframe tbody tr th:only-of-type {\n",
       "        vertical-align: middle;\n",
       "    }\n",
       "\n",
       "    .dataframe tbody tr th {\n",
       "        vertical-align: top;\n",
       "    }\n",
       "\n",
       "    .dataframe thead th {\n",
       "        text-align: right;\n",
       "    }\n",
       "</style>\n",
       "<table border=\"1\" class=\"dataframe\">\n",
       "  <thead>\n",
       "    <tr style=\"text-align: right;\">\n",
       "      <th></th>\n",
       "      <th>item_id</th>\n",
       "      <th>features</th>\n",
       "    </tr>\n",
       "  </thead>\n",
       "  <tbody>\n",
       "    <tr>\n",
       "      <th>0</th>\n",
       "      <td>19330</td>\n",
       "      <td>fantasy|paranormal|fiction|mystery|thriller|cr...</td>\n",
       "    </tr>\n",
       "    <tr>\n",
       "      <th>1</th>\n",
       "      <td>8024</td>\n",
       "      <td>fiction|history|historical fiction|biography|f...</td>\n",
       "    </tr>\n",
       "    <tr>\n",
       "      <th>2</th>\n",
       "      <td>8023</td>\n",
       "      <td>fantasy|paranormal|fiction|romance|history|his...</td>\n",
       "    </tr>\n",
       "    <tr>\n",
       "      <th>3</th>\n",
       "      <td>10656</td>\n",
       "      <td>fiction|fantasy|paranormal|children|non-fiction</td>\n",
       "    </tr>\n",
       "    <tr>\n",
       "      <th>4</th>\n",
       "      <td>2410</td>\n",
       "      <td>fiction|fantasy|paranormal|mystery|thriller|crime</td>\n",
       "    </tr>\n",
       "    <tr>\n",
       "      <th>...</th>\n",
       "      <td>...</td>\n",
       "      <td>...</td>\n",
       "    </tr>\n",
       "    <tr>\n",
       "      <th>60076</th>\n",
       "      <td>4482</td>\n",
       "      <td>fantasy|paranormal|young-adult|fiction|childre...</td>\n",
       "    </tr>\n",
       "    <tr>\n",
       "      <th>60077</th>\n",
       "      <td>45919</td>\n",
       "      <td>fiction|fantasy|paranormal|mystery|thriller|cr...</td>\n",
       "    </tr>\n",
       "    <tr>\n",
       "      <th>60078</th>\n",
       "      <td>20760</td>\n",
       "      <td>fantasy|paranormal|children|poetry|fiction|you...</td>\n",
       "    </tr>\n",
       "    <tr>\n",
       "      <th>60079</th>\n",
       "      <td>50914</td>\n",
       "      <td>fantasy|paranormal|romance</td>\n",
       "    </tr>\n",
       "    <tr>\n",
       "      <th>60080</th>\n",
       "      <td>48537</td>\n",
       "      <td>young-adult|fantasy|paranormal|romance|fiction</td>\n",
       "    </tr>\n",
       "  </tbody>\n",
       "</table>\n",
       "<p>60081 rows × 2 columns</p>\n",
       "</div>"
      ],
      "text/plain": [
       "       item_id                                           features\n",
       "0        19330  fantasy|paranormal|fiction|mystery|thriller|cr...\n",
       "1         8024  fiction|history|historical fiction|biography|f...\n",
       "2         8023  fantasy|paranormal|fiction|romance|history|his...\n",
       "3        10656    fiction|fantasy|paranormal|children|non-fiction\n",
       "4         2410  fiction|fantasy|paranormal|mystery|thriller|crime\n",
       "...        ...                                                ...\n",
       "60076     4482  fantasy|paranormal|young-adult|fiction|childre...\n",
       "60077    45919  fiction|fantasy|paranormal|mystery|thriller|cr...\n",
       "60078    20760  fantasy|paranormal|children|poetry|fiction|you...\n",
       "60079    50914                         fantasy|paranormal|romance\n",
       "60080    48537     young-adult|fantasy|paranormal|romance|fiction\n",
       "\n",
       "[60081 rows x 2 columns]"
      ]
     },
     "execution_count": 82,
     "metadata": {},
     "output_type": "execute_result"
    }
   ],
   "source": [
    "features"
   ]
  },
  {
   "cell_type": "markdown",
   "id": "9bfb1e00",
   "metadata": {},
   "source": [
    "Сохраню оригинальные айдишники."
   ]
  },
  {
   "cell_type": "code",
   "execution_count": 83,
   "id": "3b4a44eb",
   "metadata": {},
   "outputs": [],
   "source": [
    "np.savetxt(RATINGS_PATH.parent.joinpath(\"user_ids.txt\"), user_id_encoder.classes_, fmt=\"%s\", delimiter=\"\\n\")\n",
    "np.savetxt(RATINGS_PATH.parent.joinpath(\"item_ids.txt\"), item_id_encoder.classes_, fmt=\"%s\", delimiter=\"\\n\")"
   ]
  },
  {
   "cell_type": "markdown",
   "id": "acc61bd0",
   "metadata": {},
   "source": [
    "Сохраню получившиеся датасеты на диск."
   ]
  },
  {
   "cell_type": "code",
   "execution_count": 84,
   "id": "bd74fc7a",
   "metadata": {},
   "outputs": [],
   "source": [
    "train.to_csv(RATINGS_PATH.parent.joinpath(DATA_LABEL+\"_train.csv\"), index=False)\n",
    "val.to_csv(RATINGS_PATH.parent.joinpath(DATA_LABEL+\"_dev.csv\"), index=False)\n",
    "test.to_csv(RATINGS_PATH.parent.joinpath(DATA_LABEL+\"_test.csv\"), index=False)\n",
    "features.to_csv(RATINGS_PATH.parent.joinpath(DATA_LABEL+\"_features.csv\"), index=False)"
   ]
  },
  {
   "cell_type": "code",
   "execution_count": null,
   "id": "b1afdafd",
   "metadata": {},
   "outputs": [],
   "source": []
  }
 ],
 "metadata": {
  "kernelspec": {
   "display_name": "Python 3 (ipykernel)",
   "language": "python",
   "name": "python3"
  },
  "language_info": {
   "codemirror_mode": {
    "name": "ipython",
    "version": 3
   },
   "file_extension": ".py",
   "mimetype": "text/x-python",
   "name": "python",
   "nbconvert_exporter": "python",
   "pygments_lexer": "ipython3",
   "version": "3.8.12"
  }
 },
 "nbformat": 4,
 "nbformat_minor": 5
}
